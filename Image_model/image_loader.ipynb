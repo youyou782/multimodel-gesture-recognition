{
 "cells": [
  {
   "cell_type": "code",
   "execution_count": 1,
   "id": "c9e01492-a3d2-4510-90ad-fdd8afffad50",
   "metadata": {},
   "outputs": [],
   "source": [
    "import torch\n",
    "import torch.nn as nn\n",
    "import torch.optim as optim\n",
    "from torch.utils.data import DataLoader, TensorDataset, random_split\n",
    "import os\n",
    "import numpy as np\n",
    "from sklearn.preprocessing import LabelEncoder\n",
    "from tqdm import tqdm"
   ]
  },
  {
   "cell_type": "code",
   "execution_count": 2,
   "id": "1e9a238a-4120-4c3b-8da2-83886f7c98fb",
   "metadata": {},
   "outputs": [],
   "source": [
    "import os\n",
    "from PIL import Image\n",
    "import numpy as np\n",
    "import matplotlib.pyplot as plt"
   ]
  },
  {
   "cell_type": "code",
   "execution_count": 3,
   "id": "335061ab-0932-4a42-9664-ea6dd8b1d1eb",
   "metadata": {},
   "outputs": [],
   "source": [
    "def load_images_from_folder(dataset_path):\n",
    "    images = []\n",
    "    label = []\n",
    "    for foldername in os.listdir(dataset_path):\n",
    "        folderpath = os.path.join(dataset_path, foldername)\n",
    "        for filename in os.listdir(folderpath):\n",
    "            if filename.endswith(\".jpg\"):\n",
    "                img = Image.open(os.path.join(folderpath, filename)).convert('L')\n",
    "                images.append(np.array(img))\n",
    "                label.append(foldername)\n",
    "    return images, label"
   ]
  },
  {
   "cell_type": "code",
   "execution_count": 4,
   "id": "88ca0ff3-78f7-454e-9ea9-d6d2d9981bf6",
   "metadata": {},
   "outputs": [
    {
     "ename": "NameError",
     "evalue": "name '__file__' is not defined",
     "output_type": "error",
     "traceback": [
      "\u001b[1;31m---------------------------------------------------------------------------\u001b[0m",
      "\u001b[1;31mNameError\u001b[0m                                 Traceback (most recent call last)",
      "Cell \u001b[1;32mIn[4], line 3\u001b[0m\n\u001b[0;32m      1\u001b[0m \u001b[38;5;28;01mif\u001b[39;00m \u001b[38;5;18m__name__\u001b[39m \u001b[38;5;241m==\u001b[39m \u001b[38;5;124m\"\u001b[39m\u001b[38;5;124m__main__\u001b[39m\u001b[38;5;124m\"\u001b[39m :\n\u001b[1;32m----> 3\u001b[0m     script_path \u001b[38;5;241m=\u001b[39m os\u001b[38;5;241m.\u001b[39mpath\u001b[38;5;241m.\u001b[39mabspath(\u001b[38;5;18;43m__file__\u001b[39;49m)\n\u001b[0;32m      4\u001b[0m     folder_path \u001b[38;5;241m=\u001b[39m os\u001b[38;5;241m.\u001b[39mpath\u001b[38;5;241m.\u001b[39mjoin(os\u001b[38;5;241m.\u001b[39mpath\u001b[38;5;241m.\u001b[39mdirname(script_path), \u001b[38;5;124m\"\u001b[39m\u001b[38;5;124m../DataSet/Image\u001b[39m\u001b[38;5;124m\"\u001b[39m)\n\u001b[0;32m      5\u001b[0m     image, label \u001b[38;5;241m=\u001b[39m load_images_from_folder(folder_path)\n",
      "\u001b[1;31mNameError\u001b[0m: name '__file__' is not defined"
     ]
    }
   ],
   "source": [
    "if __name__ == \"__main__\" :\n",
    "    \n",
    "    script_path = os.path.abspath(__file__)\n",
    "    folder_path = os.path.join(os.path.dirname(script_path), \"../DataSet/Image\")\n",
    "    image, label = load_images_from_folder(folder_path)\n",
    "\n",
    "    print(\"Number of images:\", len(image))\n",
    "    if len(image) > 0:\n",
    "        # plt.imshow(image[0], cmap='gray')\n",
    "        # plt.colorbar()  \n",
    "        # plt.show()\n",
    "        print(\"Size of image:\", image[0].shape) "
   ]
  }
 ],
 "metadata": {
  "kernelspec": {
   "display_name": "env_1",
   "language": "python",
   "name": "env_1"
  },
  "language_info": {
   "codemirror_mode": {
    "name": "ipython",
    "version": 3
   },
   "file_extension": ".py",
   "mimetype": "text/x-python",
   "name": "python",
   "nbconvert_exporter": "python",
   "pygments_lexer": "ipython3",
   "version": "3.9.18"
  }
 },
 "nbformat": 4,
 "nbformat_minor": 5
}
